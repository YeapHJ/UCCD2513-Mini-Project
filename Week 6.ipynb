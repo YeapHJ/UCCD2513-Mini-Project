{
 "cells": [
  {
   "cell_type": "markdown",
   "id": "03435b78",
   "metadata": {},
   "source": [
    "## Weekly activity"
   ]
  },
  {
   "cell_type": "markdown",
   "id": "cefb1043",
   "metadata": {},
   "source": [
    "1. Write a program to segment the boat and the people on it from the background. Follow the instruction below:\n",
    " - Use 'boat.jpg' as input.\n",
    " - Apply Otsu thresholding.\n",
    " - Draw bounding box to identify the region where the boat and people are located."
   ]
  },
  {
   "cell_type": "code",
   "execution_count": null,
   "id": "828fb8a4",
   "metadata": {},
   "outputs": [],
   "source": [
    "pip install opencv-python"
   ]
  },
  {
   "cell_type": "code",
   "execution_count": null,
   "id": "1358a9e7",
   "metadata": {},
   "outputs": [],
   "source": [
    "import cv2\n",
    "\n",
    "image_path = 'boat.jpg'\n",
    "image = cv2.imread(image_path, cv2.IMREAD_COLOR)\n",
    "gray = cv2.cvtColor(image, cv2.COLOR_BGR2GRAY)\n",
    "_, thresholded = cv2.threshold(gray, 0, 255, cv2.THRESH_BINARY + cv2.THRESH_OTSU)\n",
    "\n",
    "contours, _ = cv2.findContours(thresholded, cv2.RETR_EXTERNAL, cv2.CHAIN_APPROX_SIMPLE)\n",
    "\n",
    "for contour in contours:\n",
    "    x, y, w, h = cv2.boundingRect(contour)\n",
    "    cv2.rectangle(image, (x, y), (x + w, y + h), (0, 255, 0), 2)\n",
    "\n",
    "cv2.imshow('Segmented Image with Bounding Boxes', image)\n",
    "cv2.waitKey(0)\n",
    "cv2.destroyAllWindows()\n"
   ]
  },
  {
   "cell_type": "markdown",
   "id": "5cbe71f9",
   "metadata": {},
   "source": [
    "2. Write a program to visualise the effect of size of structuring element on the morphological transformation(e.g. erosion, dilation, opening, and closing).\n",
    " - Load the 'leaf.jfif' and perform theresholding to segment the leaf from the background.\n",
    " - Create a GUI containing trackbar to control the size of structuring element and display the resulting image on a window alongside the trackbar."
   ]
  },
  {
   "cell_type": "code",
   "execution_count": null,
   "id": "7cac3a82",
   "metadata": {},
   "outputs": [],
   "source": [
    "import cv2\n",
    "import numpy as np\n",
    "\n",
    "def update_image(val):\n",
    "    size = cv2.getTrackbarPos('Size', 'Morphological Transformation')\n",
    "    kernel = cv2.getStructuringElement(cv2.MORPH_RECT, (size, size))\n",
    "    \n",
    "    if mode == 'Erosion':\n",
    "        result = cv2.erode(thresholded, kernel, iterations=1)\n",
    "    elif mode == 'Dilation':\n",
    "        result = cv2.dilate(thresholded, kernel, iterations=1)\n",
    "    elif mode == 'Opening':\n",
    "        result = cv2.morphologyEx(thresholded, cv2.MORPH_OPEN, kernel)\n",
    "    elif mode == 'Closing':\n",
    "        result = cv2.morphologyEx(thresholded, cv2.MORPH_CLOSE, kernel)\n",
    "    \n",
    "    cv2.imshow('Morphological Transformation', result)\n",
    "\n",
    "image_path = 'leaf.jfif'\n",
    "image = cv2.imread(image_path, cv2.IMREAD_COLOR)\n",
    "\n",
    "gray = cv2.cvtColor(image, cv2.COLOR_BGR2GRAY)\n",
    "\n",
    "_, thresholded = cv2.threshold(gray, 0, 255, cv2.THRESH_BINARY_INV + cv2.THRESH_OTSU)\n",
    "\n",
    "modes = ['Erosion', 'Dilation', 'Opening', 'Closing']\n",
    "\n",
    "cv2.namedWindow('Morphological Transformation')\n",
    "\n",
    "cv2.createTrackbar('Mode', 'Morphological Transformation', 0, len(modes) - 1, lambda x: None)\n",
    "\n",
    "mode_index = cv2.getTrackbarPos('Mode', 'Morphological Transformation')\n",
    "mode = modes[mode_index]\n",
    "\n",
    "cv2.createTrackbar('Size', 'Morphological Transformation', 1, 30, update_image)\n",
    "\n",
    "\n",
    "while True:\n",
    "    update_image(0)\n",
    "    \n",
    "    key = cv2.waitKey(1)\n",
    "    if key == 27: \n",
    "        break\n",
    "\n",
    "cv2.destroyAllWindows()\n"
   ]
  },
  {
   "cell_type": "markdown",
   "id": "04a92d84",
   "metadata": {},
   "source": [
    "3. Apply the steps shown in exercise 4 to segment the porcelain from there images: \"porcelain1.jfif\" - \"porcelain5.jfif\"."
   ]
  },
  {
   "cell_type": "code",
   "execution_count": null,
   "id": "23232d7e",
   "metadata": {},
   "outputs": [],
   "source": [
    "import cv2\n",
    "import numpy as np\n",
    "\n",
    "def update_image(val):\n",
    "    size = cv2.getTrackbarPos('Size', 'Morphological Transformation')\n",
    "    kernel = cv2.getStructuringElement(cv2.MORPH_RECT, (size, size))\n",
    "    \n",
    "    if mode == 'Erosion':\n",
    "        result = cv2.erode(thresholded, kernel, iterations=1)\n",
    "    elif mode == 'Dilation':\n",
    "        result = cv2.dilate(thresholded, kernel, iterations=1)\n",
    "    elif mode == 'Opening':\n",
    "        result = cv2.morphologyEx(thresholded, cv2.MORPH_OPEN, kernel)\n",
    "    elif mode == 'Closing':\n",
    "        result = cv2.morphologyEx(thresholded, cv2.MORPH_CLOSE, kernel)\n",
    "    \n",
    "    cv2.imshow('Morphological Transformation', result)\n",
    "\n",
    "image_paths = ['porcelain1.jfif', 'porcelain2.jfif', 'porcelain3.jfif', 'porcelain4.jfif', 'porcelain5.jfif']\n",
    "\n",
    "cv2.namedWindow('Morphological Transformation')\n",
    "\n",
    "modes = ['Erosion', 'Dilation', 'Opening', 'Closing']\n",
    "cv2.createTrackbar('Mode', 'Morphological Transformation', 0, len(modes) - 1, lambda x: None)\n",
    "\n",
    "cv2.createTrackbar('Size', 'Morphological Transformation', 1, 30, update_image)\n",
    "\n",
    "for image_path in image_paths:\n",
    "    image = cv2.imread(image_path, cv2.IMREAD_COLOR)\n",
    "    \n",
    "    gray = cv2.cvtColor(image, cv2.COLOR_BGR2GRAY)\n",
    "    \n",
    "    _, thresholded = cv2.threshold(gray, 0, 255, cv2.THRESH_BINARY_INV + cv2.THRESH_OTSU)\n",
    "    \n",
    "    mode_index = cv2.getTrackbarPos('Mode', 'Morphological Transformation')\n",
    "    mode = modes[mode_index]\n",
    "    \n",
    "    while True:\n",
    "        update_image(0)\n",
    "        \n",
    "        key = cv2.waitKey(1)\n",
    "        if key == 27: \n",
    "            break\n",
    "    \n",
    "    cv2.destroyAllWindows()\n"
   ]
  }
 ],
 "metadata": {
  "kernelspec": {
   "display_name": "Python 3 (ipykernel)",
   "language": "python",
   "name": "python3"
  },
  "language_info": {
   "codemirror_mode": {
    "name": "ipython",
    "version": 3
   },
   "file_extension": ".py",
   "mimetype": "text/x-python",
   "name": "python",
   "nbconvert_exporter": "python",
   "pygments_lexer": "ipython3",
   "version": "3.10.9"
  }
 },
 "nbformat": 4,
 "nbformat_minor": 5
}
