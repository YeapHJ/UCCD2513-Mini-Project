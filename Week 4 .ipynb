{
 "cells": [
  {
   "cell_type": "markdown",
   "id": "0c964a8f",
   "metadata": {},
   "source": [
    "# Weekly activity"
   ]
  },
  {
   "cell_type": "markdown",
   "id": "577a6555",
   "metadata": {},
   "source": [
    "1. Create a random noise color and grayscale image. You can set your own width and height, but keep the total number of pixels of both images identical."
   ]
  },
  {
   "cell_type": "code",
   "execution_count": null,
   "id": "dd79381c",
   "metadata": {},
   "outputs": [],
   "source": [
    "from PIL import Image\n",
    "import random\n",
    "\n",
    "width = 200\n",
    "height = 100\n",
    "\n",
    "total_pixels = width * height\n",
    "\n",
    "def random_color_pixel():\n",
    "    return (random.randint(0, 255), random.randint(0, 255), random.randint(0, 255))\n",
    "\n",
    "def random_grayscale_pixel():\n",
    "    value = random.randint(0, 255)\n",
    "    return (value, value, value)\n",
    "\n",
    "color_image = Image.new('RGB', (width, height))\n",
    "color_pixels = [random_color_pixel() for _ in range(total_pixels)]\n",
    "color_image.putdata(color_pixels)\n",
    "\n",
    "grayscale_image = Image.new('RGB', (width, height))\n",
    "grayscale_pixels = [random_grayscale_pixel() for _ in range(total_pixels)]\n",
    "grayscale_image.putdata(grayscale_pixels)\n",
    "\n",
    "color_image.save('random_color_image.png')\n",
    "grayscale_image.save('random_grayscale_image.png')"
   ]
  },
  {
   "cell_type": "markdown",
   "id": "8ea3cf18",
   "metadata": {},
   "source": [
    "2. Convert the code chunk found under section Divide an image into smaller patches using cropping into a function with the following signature:"
   ]
  },
  {
   "cell_type": "code",
   "execution_count": null,
   "id": "0fa6e619",
   "metadata": {},
   "outputs": [],
   "source": [
    "from PIL import Image, ImageDraw\n",
    "\n",
    "def crop_grid(img, num_horizontal_grid, num_vertical_grid, line_color):\n",
    "    img_width, img_height = img.size\n",
    "    patch_width = img_width // num_horizontal_grid\n",
    "    patch_height = img_height // num_vertical_grid\n",
    "\n",
    "    # Create a copy of the original image to draw the grid lines on\n",
    "    grid_image = img.copy()\n",
    "    draw = ImageDraw.Draw(grid_image)\n",
    "\n",
    "    # Draw vertical grid lines\n",
    "    for x in range(0, img_width, patch_width):\n",
    "        line = ((x, 0), (x, img_height - 1))\n",
    "        draw.line(line, fill=line_color, width=2)\n",
    "\n",
    "    # Draw horizontal grid lines\n",
    "    for y in range(0, img_height, patch_height):\n",
    "        line = ((0, y), (img_width - 1, y))\n",
    "        draw.line(line, fill=line_color, width=2)\n",
    "\n",
    "    return grid_image"
   ]
  },
  {
   "cell_type": "markdown",
   "id": "e0e552d6",
   "metadata": {},
   "source": [
    "3. Display image sequences of smooth transition of two images with different values of α . Refer to code in section \"Image blending\". Use \"lena.jfif\" and \"coins.jfif\" as the base images."
   ]
  },
  {
   "cell_type": "code",
   "execution_count": null,
   "id": "8e62438f",
   "metadata": {},
   "outputs": [],
   "source": [
    "from PIL import Image\n",
    "\n",
    "image1 = 'lena.jfif'\n",
    "image2 = 'coins.jfif'\n",
    "\n",
    "def blend_images(img1, img2, alpha):\n",
    "    return Image.blend(img1, img2, alpha)\n",
    "\n",
    "def display_transition_sequence(image1, image2, num_frames):\n",
    "    img1 = Image.open(\"image1\")\n",
    "    img2 = Image.open(\"image2\")\n",
    "\n",
    "    width, height = img1.size\n",
    "\n",
    "    for i in range(num_frames + 1):\n",
    "        alpha = i / num_frames  \n",
    "        blended_img = blend_images(img1, img2, alpha)\n",
    "        blended_img.show()\n",
    "        blended_img.save(f'transition_frame_{i:02}.png') \n",
    "\n",
    "display_transition_sequence(image1, image2, num_frames)"
   ]
  },
  {
   "cell_type": "markdown",
   "id": "c5c51d00",
   "metadata": {},
   "source": [
    "4. Suppose you are a digital content creator and wish to share photo online. However, you wish to protect these images from being stolen or altered by others. Leverage your image processing knowledge to apply watermark on image \"travel_hd.jpg\". The example of resulting watermarked image are as shown in the following: activity_image Image courtesy: Unsplash.\n",
    "Notice the watermark added to the bottom left of the image. You are free to design your own watermark icon."
   ]
  },
  {
   "cell_type": "code",
   "execution_count": null,
   "id": "51de67ba",
   "metadata": {},
   "outputs": [],
   "source": [
    "from PIL import Image\n",
    "\n",
    "original_image = Image.open(\"travel_hd.jpg\")\n",
    "\n",
    "text = 'CV lab UCCD2513'\n",
    "\n",
    "watermark_position = (10, original_image.size[1] - watermark_image.size[1] - 10)\n",
    "\n",
    "alpha = 0.7  \n",
    "watermarked_image = Image.alpha_composite(original_image, watermark_image.convert(\"RGBA\").resize(watermark_image.size, Image.ANTIALIAS))\n",
    "\n",
    "watermarked_image.save(\"watermarked_travel_hd.jpg\")"
   ]
  }
 ],
 "metadata": {
  "kernelspec": {
   "display_name": "Python 3 (ipykernel)",
   "language": "python",
   "name": "python3"
  },
  "language_info": {
   "codemirror_mode": {
    "name": "ipython",
    "version": 3
   },
   "file_extension": ".py",
   "mimetype": "text/x-python",
   "name": "python",
   "nbconvert_exporter": "python",
   "pygments_lexer": "ipython3",
   "version": "3.10.9"
  }
 },
 "nbformat": 4,
 "nbformat_minor": 5
}
