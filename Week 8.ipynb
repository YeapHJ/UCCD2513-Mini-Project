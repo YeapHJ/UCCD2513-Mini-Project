{
 "cells": [
  {
   "cell_type": "markdown",
   "id": "85486e11",
   "metadata": {},
   "source": [
    "# Weekly activity"
   ]
  },
  {
   "cell_type": "markdown",
   "id": "b355005f",
   "metadata": {},
   "source": [
    "1. Experiment with different edge detectors: Sobel, Laplacian, Prewitt, Scharr derivatives and Canny operators (all with aperture size of 3) on image named 'pineapple.jfif'. Comment on the results."
   ]
  },
  {
   "cell_type": "code",
   "execution_count": null,
   "id": "bf98d3c7",
   "metadata": {},
   "outputs": [],
   "source": [
    "import cv2\n",
    "import numpy as np\n",
    "import matplotlib.pyplot as plt\n",
    "\n",
    "image = cv2.imread('pineapple.jfif', cv2.IMREAD_GRAYSCALE)\n",
    "\n",
    "sobel_x = cv2.Sobel(image, cv2.CV_64F, 1, 0, ksize=3)\n",
    "sobel_y = cv2.Sobel(image, cv2.CV_64F, 0, 1, ksize=3)\n",
    "laplacian = cv2.Laplacian(image, cv2.CV_64F)\n",
    "prewitt_x = cv2.Sobel(image, cv2.CV_64F, 1, 0, ksize=3)\n",
    "prewitt_y = cv2.Sobel(image, cv2.CV_64F, 0, 1, ksize=3)\n",
    "scharr_x = cv2.Scharr(image, cv2.CV_64F, 1, 0)\n",
    "scharr_y = cv2.Scharr(image, cv2.CV_64F, 0, 1)\n",
    "canny = cv2.Canny(image, threshold1=100, threshold2=200)\n",
    "\n",
    "plt.figure(figsize=(12, 8))\n",
    "\n",
    "plt.subplot(2, 4, 1), plt.imshow(sobel_x, cmap='gray'), plt.title('Sobel X')\n",
    "plt.subplot(2, 4, 2), plt.imshow(sobel_y, cmap='gray'), plt.title('Sobel Y')\n",
    "plt.subplot(2, 4, 3), plt.imshow(laplacian, cmap='gray'), plt.title('Laplacian')\n",
    "plt.subplot(2, 4, 4), plt.imshow(prewitt_x, cmap='gray'), plt.title('Prewitt X')\n",
    "plt.subplot(2, 4, 5), plt.imshow(prewitt_y, cmap='gray'), plt.title('Prewitt Y')\n",
    "plt.subplot(2, 4, 6), plt.imshow(scharr_x, cmap='gray'), plt.title('Scharr X')\n",
    "plt.subplot(2, 4, 7), plt.imshow(scharr_y, cmap='gray'), plt.title('Scharr Y')\n",
    "plt.subplot(2, 4, 8), plt.imshow(canny, cmap='gray'), plt.title('Canny')\n",
    "\n",
    "plt.tight_layout()\n",
    "plt.show()\n"
   ]
  },
  {
   "cell_type": "markdown",
   "id": "0b1b32d6",
   "metadata": {},
   "source": [
    "2. Write a program to identify the white object (probably laptop) present in the image 'electronic.jfif'. Draw bounding boxes on the objects."
   ]
  },
  {
   "cell_type": "code",
   "execution_count": null,
   "id": "c7a30ff2",
   "metadata": {},
   "outputs": [],
   "source": [
    "import cv2\n",
    "import numpy as np\n",
    "\n",
    "image = cv2.imread('electronic.jfif')\n",
    "gray = cv2.cvtColor(image, cv2.COLOR_BGR2GRAY)\n",
    "\n",
    "_, thresh = cv2.threshold(gray, 220, 255, cv2.THRESH_BINARY_INV)\n",
    "\n",
    "contours, _ = cv2.findContours(thresh, cv2.RETR_EXTERNAL, cv2.CHAIN_APPROX_SIMPLE)\n",
    "\n",
    "for contour in contours:\n",
    "    area = cv2.contourArea(contour)\n",
    "    if area > 1000:  \n",
    "        x, y, w, h = cv2.boundingRect(contour)\n",
    "        cv2.rectangle(image, (x, y), (x + w, y + h), (0, 255, 0), 2)\n",
    "\n",
    "cv2.imshow('Detected Objects', image)\n",
    "cv2.waitKey(0)\n",
    "cv2.destroyAllWindows()\n"
   ]
  },
  {
   "cell_type": "markdown",
   "id": "b3c56cb8",
   "metadata": {},
   "source": [
    "3. Isolate the clock with the aid of edge detection and contours' properties. The example result should be as follows: segmented_clock"
   ]
  },
  {
   "cell_type": "code",
   "execution_count": null,
   "id": "68906980",
   "metadata": {},
   "outputs": [],
   "source": [
    "import cv2\n",
    "import numpy as np\n",
    "\n",
    "image = cv2.imread('electronic.jfif')\n",
    "gray = cv2.cvtColor(image, cv2.COLOR_BGR2GRAY)\n",
    "\n",
    "edges = cv2.Canny(gray, threshold1=100, threshold2=200)\n",
    "\n",
    "contours, _ = cv2.findContours(edges, cv2.RETR_EXTERNAL, cv2.CHAIN_APPROX_SIMPLE)\n",
    "\n",
    "largest_contour = max(contours, key=cv2.contourArea)\n",
    "\n",
    "mask = np.zeros_like(gray)\n",
    "cv2.drawContours(mask, [largest_contour], 0, 255, thickness=cv2.FILLED)\n",
    "\n",
    "segmented_clock = cv2.bitwise_and(image, image, mask=mask)\n",
    "\n",
    "cv2.imshow('Segmented Clock', segmented_clock)\n",
    "cv2.waitKey(0)\n",
    "cv2.destroyAllWindows()\n"
   ]
  }
 ],
 "metadata": {
  "kernelspec": {
   "display_name": "Python 3 (ipykernel)",
   "language": "python",
   "name": "python3"
  },
  "language_info": {
   "codemirror_mode": {
    "name": "ipython",
    "version": 3
   },
   "file_extension": ".py",
   "mimetype": "text/x-python",
   "name": "python",
   "nbconvert_exporter": "python",
   "pygments_lexer": "ipython3",
   "version": "3.10.9"
  }
 },
 "nbformat": 4,
 "nbformat_minor": 5
}
