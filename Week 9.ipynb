{
 "cells": [
  {
   "cell_type": "markdown",
   "id": "ed3daa8c",
   "metadata": {},
   "source": [
    "# Weekly activity"
   ]
  },
  {
   "cell_type": "markdown",
   "id": "9b13d327",
   "metadata": {},
   "source": [
    "1. Apply k-means clustering on 'zebra.jfif' to segment out the zebra.\n",
    "   - You are required to determine the optimal k by plotting the within cluster sum of squares vs number of clusters (2-10).\n",
    "   - Apply the clustering method on 3 color spaces: BGR, HSV and LAB. Compare the results obtained."
   ]
  },
  {
   "cell_type": "code",
   "execution_count": null,
   "id": "b3f7a0da",
   "metadata": {},
   "outputs": [],
   "source": [
    "import cv2\n",
    "import numpy as np\n",
    "import matplotlib.pyplot as plt\n",
    "\n",
    "image = cv2.imread('zebra.jfif')\n",
    "image = cv2.cvtColor(image, cv2.COLOR_BGR2RGB) \n",
    "\n",
    "pixels = image.reshape((-1, 3))\n",
    "\n",
    "wcss_values = []\n",
    "\n",
    "for k in range(2, 11):\n",
    "    kmeans = cv2.KMeans(n_clusters=k)\n",
    "    kmeans.fit(pixels)\n",
    "    wcss_values.append(kmeans.inertia_)\n",
    "\n",
    "plt.figure(figsize=(10, 6))\n",
    "plt.plot(range(2, 11), wcss_values, marker='o')\n",
    "plt.title('Within-Cluster Sum of Squares vs. Number of Clusters')\n",
    "plt.xlabel('Number of Clusters (k)')\n",
    "plt.ylabel('Within-Cluster Sum of Squares')\n",
    "plt.xticks(range(2, 11))\n",
    "plt.grid(True)\n",
    "plt.show()\n"
   ]
  },
  {
   "cell_type": "code",
   "execution_count": null,
   "id": "147e5406",
   "metadata": {},
   "outputs": [],
   "source": [
    "# BGR Color Space\n",
    "pixels = image.reshape((-1, 3))"
   ]
  },
  {
   "cell_type": "code",
   "execution_count": null,
   "id": "e27f3b6b",
   "metadata": {},
   "outputs": [],
   "source": [
    "# HSV Color Space\n",
    "hsv_image = cv2.cvtColor(image, cv2.COLOR_RGB2HSV)\n",
    "pixels = hsv_image.reshape((-1, 3))"
   ]
  },
  {
   "cell_type": "code",
   "execution_count": null,
   "id": "310a4b89",
   "metadata": {},
   "outputs": [],
   "source": [
    "# LAB Color Space\n",
    "lab_image = cv2.cvtColor(image, cv2.COLOR_RGB2LAB)\n",
    "pixels = lab_image.reshape((-1, 3))"
   ]
  }
 ],
 "metadata": {
  "kernelspec": {
   "display_name": "Python 3 (ipykernel)",
   "language": "python",
   "name": "python3"
  },
  "language_info": {
   "codemirror_mode": {
    "name": "ipython",
    "version": 3
   },
   "file_extension": ".py",
   "mimetype": "text/x-python",
   "name": "python",
   "nbconvert_exporter": "python",
   "pygments_lexer": "ipython3",
   "version": "3.10.9"
  }
 },
 "nbformat": 4,
 "nbformat_minor": 5
}
